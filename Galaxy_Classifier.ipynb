{
 "cells": [
  {
   "cell_type": "code",
   "execution_count": 9,
   "metadata": {
    "collapsed": false
   },
   "outputs": [],
   "source": [
    "import keras\n",
    "from keras.models import Sequential\n",
    "from keras.preprocessing.image import ImageDataGenerator\n",
    "from keras.layers import Dense, Dropout, Flatten, Conv2D, MaxPooling2D\n",
    "import h5py\n",
    "import warnings\n",
    "warnings.filterwarnings('ignore')"
   ]
  },
  {
   "cell_type": "code",
   "execution_count": 10,
   "metadata": {
    "collapsed": true
   },
   "outputs": [],
   "source": [
    "num_classes=3\n",
    "input_shape=(128,128,3)"
   ]
  },
  {
   "cell_type": "code",
   "execution_count": 11,
   "metadata": {
    "collapsed": false
   },
   "outputs": [
    {
     "name": "stdout",
     "output_type": "stream",
     "text": [
      "_________________________________________________________________\n",
      "Layer (type)                 Output Shape              Param #   \n",
      "=================================================================\n",
      "conv2d_6 (Conv2D)            (None, 126, 126, 16)      448       \n",
      "_________________________________________________________________\n",
      "conv2d_7 (Conv2D)            (None, 124, 124, 32)      4640      \n",
      "_________________________________________________________________\n",
      "max_pooling2d_5 (MaxPooling2 (None, 62, 62, 32)        0         \n",
      "_________________________________________________________________\n",
      "conv2d_8 (Conv2D)            (None, 60, 60, 32)        9248      \n",
      "_________________________________________________________________\n",
      "max_pooling2d_6 (MaxPooling2 (None, 30, 30, 32)        0         \n",
      "_________________________________________________________________\n",
      "conv2d_9 (Conv2D)            (None, 28, 28, 32)        9248      \n",
      "_________________________________________________________________\n",
      "max_pooling2d_7 (MaxPooling2 (None, 14, 14, 32)        0         \n",
      "_________________________________________________________________\n",
      "conv2d_10 (Conv2D)           (None, 12, 12, 32)        9248      \n",
      "_________________________________________________________________\n",
      "max_pooling2d_8 (MaxPooling2 (None, 6, 6, 32)          0         \n",
      "_________________________________________________________________\n",
      "dropout_3 (Dropout)          (None, 6, 6, 32)          0         \n",
      "_________________________________________________________________\n",
      "flatten_2 (Flatten)          (None, 1152)              0         \n",
      "_________________________________________________________________\n",
      "dense_3 (Dense)              (None, 32)                36896     \n",
      "_________________________________________________________________\n",
      "dropout_4 (Dropout)          (None, 32)                0         \n",
      "_________________________________________________________________\n",
      "dense_4 (Dense)              (None, 3)                 99        \n",
      "=================================================================\n",
      "Total params: 69,827\n",
      "Trainable params: 69,827\n",
      "Non-trainable params: 0\n",
      "_________________________________________________________________\n"
     ]
    }
   ],
   "source": [
    "model = Sequential()\n",
    "model.add(Conv2D(16, kernel_size=(3, 3), activation='tanh', input_shape=input_shape))\n",
    "model.add(Conv2D(32, (3, 3), activation='tanh'))\n",
    "model.add(MaxPooling2D(pool_size=(2, 2)))\n",
    "model.add(Conv2D(32, (3, 3), activation='tanh'))\n",
    "model.add(MaxPooling2D(pool_size=(2, 2)))\n",
    "model.add(Conv2D(32, (3, 3), activation='tanh'))\n",
    "model.add(MaxPooling2D(pool_size=(2, 2)))\n",
    "model.add(Conv2D(32, (3, 3), activation='tanh'))\n",
    "model.add(MaxPooling2D(pool_size=(2, 2)))\n",
    "model.add(Dropout(0.25))\n",
    "model.add(Flatten())\n",
    "model.add(Dense(32, activation='tanh'))\n",
    "model.add(Dropout(0.5))\n",
    "model.add(Dense(num_classes, activation='softmax'))\n",
    "model.summary()"
   ]
  },
  {
   "cell_type": "code",
   "execution_count": 12,
   "metadata": {
    "collapsed": false
   },
   "outputs": [
    {
     "name": "stdout",
     "output_type": "stream",
     "text": [
      "Found 3432 images belonging to 3 classes.\n",
      "Found 1186 images belonging to 3 classes.\n",
      "Epoch 1/30\n",
      "10/10 [==============================] - 143s 14s/step - loss: 0.7991 - acc: 0.6203 - val_loss: 0.5737 - val_acc: 0.7715\n",
      "Epoch 2/30\n",
      "10/10 [==============================] - 154s 15s/step - loss: 0.5316 - acc: 0.7781 - val_loss: 0.3634 - val_acc: 0.8693\n",
      "Epoch 3/30\n",
      "10/10 [==============================] - 142s 14s/step - loss: 0.4020 - acc: 0.8469 - val_loss: 0.3286 - val_acc: 0.9067\n",
      "Epoch 4/30\n",
      "10/10 [==============================] - 134s 13s/step - loss: 0.3397 - acc: 0.8766 - val_loss: 0.2936 - val_acc: 0.9023\n",
      "Epoch 5/30\n",
      "10/10 [==============================] - 134s 13s/step - loss: 0.3735 - acc: 0.8656 - val_loss: 0.2781 - val_acc: 0.9078\n",
      "Epoch 6/30\n",
      "10/10 [==============================] - 135s 13s/step - loss: 0.3326 - acc: 0.8924 - val_loss: 0.2782 - val_acc: 0.9061\n",
      "Epoch 7/30\n",
      "10/10 [==============================] - 134s 13s/step - loss: 0.3320 - acc: 0.8672 - val_loss: 0.2652 - val_acc: 0.9186\n",
      "Epoch 8/30\n",
      "10/10 [==============================] - 134s 13s/step - loss: 0.2964 - acc: 0.8906 - val_loss: 0.2606 - val_acc: 0.9172\n",
      "Epoch 9/30\n",
      "10/10 [==============================] - 135s 13s/step - loss: 0.2983 - acc: 0.8906 - val_loss: 0.2415 - val_acc: 0.9160\n",
      "Epoch 10/30\n",
      "10/10 [==============================] - 134s 13s/step - loss: 0.2776 - acc: 0.9125 - val_loss: 0.3321 - val_acc: 0.8694\n",
      "Epoch 11/30\n",
      "10/10 [==============================] - 134s 13s/step - loss: 0.3217 - acc: 0.8906 - val_loss: 0.2428 - val_acc: 0.9192\n",
      "Epoch 12/30\n",
      "10/10 [==============================] - 133s 13s/step - loss: 0.2912 - acc: 0.8987 - val_loss: 0.2956 - val_acc: 0.8794\n",
      "Epoch 13/30\n",
      "10/10 [==============================] - 135s 14s/step - loss: 0.2358 - acc: 0.9234 - val_loss: 0.2344 - val_acc: 0.9222\n",
      "Epoch 14/30\n",
      "10/10 [==============================] - 135s 13s/step - loss: 0.2802 - acc: 0.8844 - val_loss: 0.2333 - val_acc: 0.9214\n",
      "Epoch 15/30\n",
      "10/10 [==============================] - 136s 14s/step - loss: 0.2835 - acc: 0.8984 - val_loss: 0.2114 - val_acc: 0.9189\n",
      "Epoch 16/30\n",
      "10/10 [==============================] - 134s 13s/step - loss: 0.2782 - acc: 0.8953 - val_loss: 0.2211 - val_acc: 0.9227\n",
      "Epoch 17/30\n",
      "10/10 [==============================] - 137s 14s/step - loss: 0.2142 - acc: 0.9293 - val_loss: 0.2095 - val_acc: 0.9282\n",
      "Epoch 18/30\n",
      "10/10 [==============================] - 138s 14s/step - loss: 0.2764 - acc: 0.8922 - val_loss: 0.2240 - val_acc: 0.9211\n",
      "Epoch 19/30\n",
      "10/10 [==============================] - 134s 13s/step - loss: 0.2373 - acc: 0.9156 - val_loss: 0.2019 - val_acc: 0.9259\n",
      "Epoch 20/30\n",
      "10/10 [==============================] - 134s 13s/step - loss: 0.2607 - acc: 0.8984 - val_loss: 0.2460 - val_acc: 0.9101\n",
      "Epoch 21/30\n",
      "10/10 [==============================] - 134s 13s/step - loss: 0.2423 - acc: 0.9062 - val_loss: 0.1987 - val_acc: 0.9267\n",
      "Epoch 22/30\n",
      "10/10 [==============================] - 139s 14s/step - loss: 0.2122 - acc: 0.9281 - val_loss: 0.2334 - val_acc: 0.9106\n",
      "Epoch 23/30\n",
      "10/10 [==============================] - 139s 14s/step - loss: 0.2808 - acc: 0.9031 - val_loss: 0.1813 - val_acc: 0.9373\n",
      "Epoch 24/30\n",
      "10/10 [==============================] - 138s 14s/step - loss: 0.2177 - acc: 0.9309 - val_loss: 0.2092 - val_acc: 0.9310\n",
      "Epoch 25/30\n",
      "10/10 [==============================] - 143s 14s/step - loss: 0.2026 - acc: 0.9219 - val_loss: 0.2378 - val_acc: 0.9160\n",
      "Epoch 26/30\n",
      "10/10 [==============================] - 145s 15s/step - loss: 0.2104 - acc: 0.9406 - val_loss: 0.1720 - val_acc: 0.9410\n",
      "Epoch 27/30\n",
      "10/10 [==============================] - 141s 14s/step - loss: 0.1613 - acc: 0.9453 - val_loss: 0.1683 - val_acc: 0.9373\n",
      "Epoch 28/30\n",
      "10/10 [==============================] - 136s 14s/step - loss: 0.1730 - acc: 0.9344 - val_loss: 0.1811 - val_acc: 0.9365\n",
      "Epoch 29/30\n",
      "10/10 [==============================] - 134s 13s/step - loss: 0.2285 - acc: 0.9016 - val_loss: 0.2145 - val_acc: 0.9078\n",
      "Epoch 30/30\n",
      "10/10 [==============================] - 138s 14s/step - loss: 0.1996 - acc: 0.9205 - val_loss: 0.1971 - val_acc: 0.9264\n"
     ]
    }
   ],
   "source": [
    "model.compile(loss=keras.losses.categorical_crossentropy, optimizer = keras.optimizers.Adam(), metrics=['accuracy'])\n",
    "train_datagen = ImageDataGenerator(\n",
    "        rescale=1./255,\n",
    "        shear_range=0.2,\n",
    "        zoom_range=0.2,\n",
    "        horizontal_flip=True)\n",
    "\n",
    "test_datagen = ImageDataGenerator(rescale=1./255)\n",
    "\n",
    "training_set = train_datagen.flow_from_directory(\n",
    "        'training_set',\n",
    "        target_size=(128, 128),\n",
    "        batch_size=64,\n",
    "        class_mode='categorical' )\n",
    "\n",
    "test_set = test_datagen.flow_from_directory(\n",
    "        'val_set',\n",
    "        target_size=(128, 128),\n",
    "        batch_size=64,\n",
    "        class_mode='categorical')\n",
    "\n",
    "classifier = model.fit_generator(\n",
    "        training_set,\n",
    "        steps_per_epoch=10,\n",
    "        epochs=30,\n",
    "        validation_data=test_set,\n",
    "        validation_steps=100)\n"
   ]
  },
  {
   "cell_type": "code",
   "execution_count": 13,
   "metadata": {
    "collapsed": true
   },
   "outputs": [],
   "source": [
    "model.save_weights('model.h5')"
   ]
  },
  {
   "cell_type": "code",
   "execution_count": 14,
   "metadata": {
    "collapsed": false
   },
   "outputs": [
    {
     "name": "stdout",
     "output_type": "stream",
     "text": [
      "dict_keys(['loss', 'val_acc', 'acc', 'val_loss'])\n"
     ]
    }
   ],
   "source": [
    "print(classifier.history.keys())"
   ]
  },
  {
   "cell_type": "code",
   "execution_count": 15,
   "metadata": {
    "collapsed": false
   },
   "outputs": [
    {
     "data": {
      "image/png": "[encoded data removed]",
      "text/plain": [
       "<matplotlib.figure.Figure at 0x20859de22e8>"
      ]
     },
     "metadata": {},
     "output_type": "display_data"
    }
   ],
   "source": [
    "import matplotlib.pyplot as plt\n",
    "%matplotlib inline\n",
    "plt.plot(classifier.history['acc'])\n",
    "plt.plot(classifier.history['val_acc'])\n",
    "plt.title('model accuracy')\n",
    "plt.ylabel('accuracy')\n",
    "plt.xlabel('epoch')\n",
    "plt.legend(['train', 'test'], loc='upper left')\n",
    "plt.show()"
   ]
  },
  {
   "cell_type": "code",
   "execution_count": 16,
   "metadata": {
    "collapsed": false
   },
   "outputs": [
    {
     "data": {
      "image/png": "[encoded data removed]",
      "text/plain": [
       "<matplotlib.figure.Figure at 0x20859de2ac8>"
      ]
     },
     "metadata": {},
     "output_type": "display_data"
    }
   ],
   "source": [
    "# summarize history for loss\n",
    "plt.plot(classifier.history['loss'])\n",
    "plt.plot(classifier.history['val_loss'])\n",
    "plt.title('model loss')\n",
    "plt.ylabel('loss')\n",
    "plt.xlabel('epoch')\n",
    "plt.legend(['train', 'test'], loc='upper left')\n",
    "plt.show()"
   ]
  },
  {
   "cell_type": "code",
   "execution_count": null,
   "metadata": {
    "collapsed": true
   },
   "outputs": [],
   "source": []
  }
 ],
 "metadata": {
  "anaconda-cloud": {},
  "kernelspec": {
   "display_name": "Python [default]",
   "language": "python",
   "name": "python3"
  },
  "language_info": {
   "codemirror_mode": {
    "name": "ipython",
    "version": 3
   },
   "file_extension": ".py",
   "mimetype": "text/x-python",
   "name": "python",
   "nbconvert_exporter": "python",
   "pygments_lexer": "ipython3",
   "version": "3.5.2"
  }
 },
 "nbformat": 4,
 "nbformat_minor": 2
}
