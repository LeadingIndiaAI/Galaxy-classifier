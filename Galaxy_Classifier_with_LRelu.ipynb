{
 "cells": [
  {
   "cell_type": "markdown",
   "metadata": {},
   "source": [
    "# GALAXY CLASSIFIER\n",
    "\n",
    "This IPython Notebook contains the Python code for implementing a Convolution Neural Network(CNN) Architecture for Classification of Galaxy Images into it's 3 corresponding classes- Spiral type, Ireegular type and Elliptical type. The model was trained on Nvidia 960MX GPU followed by an intensive training on the NVIDIA DGX 1 Octa Tesla V100 Supercomputer servers using technologies like Putty and WinSCP. On training for 40 epochs, it was observed the training accuracy was at 95.00% with training loss at 15.37% while Validation accuracy was at 94.75% and Validation loss at 15.31%. The Training set containing 3 classes were a total of 3232 images while the Validation set containing the same number of classes contained 1190 images. "
   ]
  },
  {
   "cell_type": "code",
   "execution_count": 1,
   "metadata": {},
   "outputs": [
    {
     "name": "stderr",
     "output_type": "stream",
     "text": [
      "C:\\Users\\Akshat Aman\\Anaconda3\\lib\\site-packages\\h5py\\__init__.py:36: FutureWarning: Conversion of the second argument of issubdtype from `float` to `np.floating` is deprecated. In future, it will be treated as `np.float64 == np.dtype(float).type`.\n",
      "  from ._conv import register_converters as _register_converters\n",
      "Using TensorFlow backend.\n"
     ]
    }
   ],
   "source": [
    "import keras\n",
    "import tensorflow\n",
    "from keras.models import Sequential\n",
    "from keras.preprocessing.image import ImageDataGenerator\n",
    "from keras.layers import Dense, Dropout, Flatten, Conv2D, MaxPooling2D, Activation\n",
    "import h5py\n",
    "import warnings\n",
    "from keras import backend as K\n",
    "import os\n",
    "from keras.layers import LeakyReLU\n",
    "import timeit\n",
    "warnings.filterwarnings('ignore')"
   ]
  },
  {
   "cell_type": "code",
   "execution_count": 2,
   "metadata": {},
   "outputs": [],
   "source": [
    "num_classes=3\n",
    "input_shape=(256,256,3)"
   ]
  },
  {
   "cell_type": "code",
   "execution_count": 3,
   "metadata": {
    "scrolled": true
   },
   "outputs": [
    {
     "name": "stdout",
     "output_type": "stream",
     "text": [
      "WARNING:tensorflow:From C:\\Users\\Akshat Aman\\Anaconda3\\lib\\site-packages\\keras\\backend\\tensorflow_backend.py:1264: calling reduce_prod (from tensorflow.python.ops.math_ops) with keep_dims is deprecated and will be removed in a future version.\n",
      "Instructions for updating:\n",
      "keep_dims is deprecated, use keepdims instead\n",
      "_________________________________________________________________\n",
      "Layer (type)                 Output Shape              Param #   \n",
      "=================================================================\n",
      "conv2d_1 (Conv2D)            (None, 254, 254, 16)      448       \n",
      "_________________________________________________________________\n",
      "leaky_re_lu_1 (LeakyReLU)    (None, 254, 254, 16)      0         \n",
      "_________________________________________________________________\n",
      "conv2d_2 (Conv2D)            (None, 252, 252, 32)      4640      \n",
      "_________________________________________________________________\n",
      "leaky_re_lu_2 (LeakyReLU)    (None, 252, 252, 32)      0         \n",
      "_________________________________________________________________\n",
      "max_pooling2d_1 (MaxPooling2 (None, 126, 126, 32)      0         \n",
      "_________________________________________________________________\n",
      "conv2d_3 (Conv2D)            (None, 124, 124, 32)      9248      \n",
      "_________________________________________________________________\n",
      "leaky_re_lu_3 (LeakyReLU)    (None, 124, 124, 32)      0         \n",
      "_________________________________________________________________\n",
      "max_pooling2d_2 (MaxPooling2 (None, 62, 62, 32)        0         \n",
      "_________________________________________________________________\n",
      "conv2d_4 (Conv2D)            (None, 60, 60, 32)        9248      \n",
      "_________________________________________________________________\n",
      "leaky_re_lu_4 (LeakyReLU)    (None, 60, 60, 32)        0         \n",
      "_________________________________________________________________\n",
      "max_pooling2d_3 (MaxPooling2 (None, 30, 30, 32)        0         \n",
      "_________________________________________________________________\n",
      "conv2d_5 (Conv2D)            (None, 28, 28, 32)        9248      \n",
      "_________________________________________________________________\n",
      "leaky_re_lu_5 (LeakyReLU)    (None, 28, 28, 32)        0         \n",
      "_________________________________________________________________\n",
      "max_pooling2d_4 (MaxPooling2 (None, 14, 14, 32)        0         \n",
      "_________________________________________________________________\n",
      "dropout_1 (Dropout)          (None, 14, 14, 32)        0         \n",
      "_________________________________________________________________\n",
      "flatten_1 (Flatten)          (None, 6272)              0         \n",
      "_________________________________________________________________\n",
      "dense_1 (Dense)              (None, 32)                200736    \n",
      "_________________________________________________________________\n",
      "leaky_re_lu_6 (LeakyReLU)    (None, 32)                0         \n",
      "_________________________________________________________________\n",
      "dropout_2 (Dropout)          (None, 32)                0         \n",
      "_________________________________________________________________\n",
      "dense_2 (Dense)              (None, 3)                 99        \n",
      "=================================================================\n",
      "Total params: 233,667\n",
      "Trainable params: 233,667\n",
      "Non-trainable params: 0\n",
      "_________________________________________________________________\n"
     ]
    }
   ],
   "source": [
    "model = Sequential()\n",
    "model.add(Conv2D(16, kernel_size=(3, 3), input_shape=input_shape))\n",
    "model.add(LeakyReLU(alpha=0.1))\n",
    "model.add(Conv2D(32, (3, 3)))\n",
    "model.add(LeakyReLU(alpha=0.1))\n",
    "model.add(MaxPooling2D(pool_size=(2, 2)))\n",
    "model.add(Conv2D(32, (3, 3)))\n",
    "model.add(LeakyReLU(alpha=0.1))\n",
    "model.add(MaxPooling2D(pool_size=(2, 2)))\n",
    "model.add(Conv2D(32, (3, 3)))\n",
    "model.add(LeakyReLU(alpha=0.1))\n",
    "model.add(MaxPooling2D(pool_size=(2, 2)))\n",
    "model.add(Conv2D(32, (3, 3)))\n",
    "model.add(LeakyReLU(alpha=0.1))\n",
    "model.add(MaxPooling2D(pool_size=(2, 2)))\n",
    "model.add(Dropout(0.25))\n",
    "model.add(Flatten())\n",
    "model.add(Dense(32))\n",
    "model.add(LeakyReLU(alpha=0.1))\n",
    "model.add(Dropout(0.5))\n",
    "model.add(Dense(num_classes, activation='softmax'))\n",
    "model.summary()"
   ]
  },
  {
   "cell_type": "code",
   "execution_count": 27,
   "metadata": {},
   "outputs": [
    {
     "name": "stdout",
     "output_type": "stream",
     "text": [
      "Found 3232 images belonging to 3 classes.\n",
      "Found 1190 images belonging to 3 classes.\n",
      "Epoch 1/40\n",
      "10/10 [==============================] - 145s 15s/step - loss: 0.8451 - acc: 0.6109 - val_loss: 0.6192 - val_acc: 0.7006\n",
      "Epoch 2/40\n",
      "10/10 [==============================] - 147s 15s/step - loss: 0.5722 - acc: 0.7203 - val_loss: 0.4876 - val_acc: 0.8201\n",
      "Epoch 3/40\n",
      "10/10 [==============================] - 148s 15s/step - loss: 0.4967 - acc: 0.7797 - val_loss: 0.4246 - val_acc: 0.8818\n",
      "Epoch 4/40\n",
      "10/10 [==============================] - 145s 15s/step - loss: 0.4141 - acc: 0.8375 - val_loss: 0.3179 - val_acc: 0.8837\n",
      "Epoch 5/40\n",
      "10/10 [==============================] - 146s 15s/step - loss: 0.3800 - acc: 0.8688 - val_loss: 0.3024 - val_acc: 0.9010\n",
      "Epoch 6/40\n",
      "10/10 [==============================] - 150s 15s/step - loss: 0.3018 - acc: 0.9016 - val_loss: 0.3526 - val_acc: 0.8831\n",
      "Epoch 7/40\n",
      "10/10 [==============================] - 157s 16s/step - loss: 0.3167 - acc: 0.8922 - val_loss: 0.2720 - val_acc: 0.9188\n",
      "Epoch 8/40\n",
      "10/10 [==============================] - 151s 15s/step - loss: 0.2984 - acc: 0.8984 - val_loss: 0.3043 - val_acc: 0.8927\n",
      "Epoch 9/40\n",
      "10/10 [==============================] - 159s 16s/step - loss: 0.3252 - acc: 0.8875 - val_loss: 0.2659 - val_acc: 0.9137\n",
      "Epoch 10/40\n",
      "10/10 [==============================] - 146s 15s/step - loss: 0.3386 - acc: 0.8843 - val_loss: 0.3338 - val_acc: 0.8616\n",
      "Epoch 11/40\n",
      "10/10 [==============================] - 168s 17s/step - loss: 0.2873 - acc: 0.9062 - val_loss: 0.2112 - val_acc: 0.9300\n",
      "Epoch 12/40\n",
      "10/10 [==============================] - 149s 15s/step - loss: 0.2465 - acc: 0.9158 - val_loss: 0.2042 - val_acc: 0.9222\n",
      "Epoch 13/40\n",
      "10/10 [==============================] - 147s 15s/step - loss: 0.2270 - acc: 0.9172 - val_loss: 0.2187 - val_acc: 0.9225\n",
      "Epoch 14/40\n",
      "10/10 [==============================] - 162s 16s/step - loss: 0.2438 - acc: 0.9109 - val_loss: 0.2210 - val_acc: 0.9206\n",
      "Epoch 15/40\n",
      "10/10 [==============================] - 147s 15s/step - loss: 0.2804 - acc: 0.9047 - val_loss: 0.1899 - val_acc: 0.9306\n",
      "Epoch 16/40\n",
      "10/10 [==============================] - 138s 14s/step - loss: 0.2042 - acc: 0.9391 - val_loss: 0.2208 - val_acc: 0.9182\n",
      "Epoch 17/40\n",
      "10/10 [==============================] - 139s 14s/step - loss: 0.2171 - acc: 0.9251 - val_loss: 0.2398 - val_acc: 0.9037\n",
      "Epoch 18/40\n",
      "10/10 [==============================] - 141s 14s/step - loss: 0.2366 - acc: 0.9203 - val_loss: 0.2543 - val_acc: 0.9072\n",
      "Epoch 19/40\n",
      "10/10 [==============================] - 141s 14s/step - loss: 0.2503 - acc: 0.9141 - val_loss: 0.2604 - val_acc: 0.9013\n",
      "Epoch 20/40\n",
      "10/10 [==============================] - 146s 15s/step - loss: 0.2042 - acc: 0.9344 - val_loss: 0.2048 - val_acc: 0.9351\n",
      "Epoch 21/40\n",
      "10/10 [==============================] - 147s 15s/step - loss: 0.1906 - acc: 0.9359 - val_loss: 0.2471 - val_acc: 0.9067\n",
      "Epoch 22/40\n",
      "10/10 [==============================] - 148s 15s/step - loss: 0.1867 - acc: 0.9391 - val_loss: 0.1917 - val_acc: 0.9273\n",
      "Epoch 23/40\n",
      "10/10 [==============================] - 146s 15s/step - loss: 0.2286 - acc: 0.9172 - val_loss: 0.1764 - val_acc: 0.9335\n",
      "Epoch 24/40\n",
      "10/10 [==============================] - 137s 14s/step - loss: 0.1695 - acc: 0.9391 - val_loss: 0.1717 - val_acc: 0.9370\n",
      "Epoch 25/40\n",
      "10/10 [==============================] - 139s 14s/step - loss: 0.1963 - acc: 0.9281 - val_loss: 0.2005 - val_acc: 0.9289\n",
      "Epoch 26/40\n",
      "10/10 [==============================] - 139s 14s/step - loss: 0.2208 - acc: 0.9110 - val_loss: 0.1955 - val_acc: 0.9262\n",
      "Epoch 27/40\n",
      "10/10 [==============================] - 137s 14s/step - loss: 0.2027 - acc: 0.9342 - val_loss: 0.2177 - val_acc: 0.9111\n",
      "Epoch 28/40\n",
      "10/10 [==============================] - 139s 14s/step - loss: 0.1754 - acc: 0.9406 - val_loss: 0.1866 - val_acc: 0.9357\n",
      "Epoch 29/40\n",
      "10/10 [==============================] - 137s 14s/step - loss: 0.2151 - acc: 0.9281 - val_loss: 0.2172 - val_acc: 0.9112\n",
      "Epoch 30/40\n",
      "10/10 [==============================] - 139s 14s/step - loss: 0.2243 - acc: 0.9125 - val_loss: 0.2926 - val_acc: 0.8876\n",
      "Epoch 31/40\n",
      "10/10 [==============================] - 137s 14s/step - loss: 0.2684 - acc: 0.8890 - val_loss: 0.2006 - val_acc: 0.9194\n",
      "Epoch 32/40\n",
      "10/10 [==============================] - 141s 14s/step - loss: 0.1946 - acc: 0.9297 - val_loss: 0.1880 - val_acc: 0.9329\n",
      "Epoch 33/40\n",
      "10/10 [==============================] - 138s 14s/step - loss: 0.2395 - acc: 0.9203 - val_loss: 0.1725 - val_acc: 0.9410\n",
      "Epoch 34/40\n",
      "10/10 [==============================] - 139s 14s/step - loss: 0.1673 - acc: 0.9469 - val_loss: 0.1752 - val_acc: 0.9289\n",
      "Epoch 35/40\n",
      "10/10 [==============================] - 139s 14s/step - loss: 0.1420 - acc: 0.9547 - val_loss: 0.1616 - val_acc: 0.9444\n",
      "Epoch 36/40\n",
      "10/10 [==============================] - 140s 14s/step - loss: 0.1580 - acc: 0.9406 - val_loss: 0.1558 - val_acc: 0.9389\n",
      "Epoch 37/40\n",
      "10/10 [==============================] - 140s 14s/step - loss: 0.2122 - acc: 0.9187 - val_loss: 0.1926 - val_acc: 0.9372\n",
      "Epoch 38/40\n",
      "10/10 [==============================] - 140s 14s/step - loss: 0.2101 - acc: 0.9156 - val_loss: 0.2335 - val_acc: 0.9167\n",
      "Epoch 39/40\n",
      "10/10 [==============================] - 139s 14s/step - loss: 0.1800 - acc: 0.9328 - val_loss: 0.1763 - val_acc: 0.9346\n",
      "Epoch 40/40\n",
      "10/10 [==============================] - 139s 14s/step - loss: 0.1573 - acc: 0.9500 - val_loss: 0.1531 - val_acc: 0.9475\n",
      "Time Taken to run the model: 5773.45063024986 seconds\n"
     ]
    }
   ],
   "source": [
    "start = timeit.default_timer()\n",
    "model.compile(loss=keras.losses.categorical_crossentropy, optimizer = keras.optimizers.Adam(), metrics=['accuracy'])\n",
    "train_datagen = ImageDataGenerator(\n",
    "        rescale=1./255,\n",
    "        shear_range=0.2,\n",
    "        zoom_range=0.2,\n",
    "        horizontal_flip=True)\n",
    "\n",
    "test_datagen = ImageDataGenerator(rescale=1./255)\n",
    "\n",
    "training_set = train_datagen.flow_from_directory(\n",
    "        'training_set',\n",
    "        target_size=(256, 256),\n",
    "        batch_size=64,\n",
    "        class_mode='categorical' )\n",
    "\n",
    "test_set = test_datagen.flow_from_directory(\n",
    "        'val_set',\n",
    "        target_size=(256, 256),\n",
    "        batch_size=64,\n",
    "        class_mode='categorical')\n",
    "\n",
    "\n",
    "classifier = model.fit_generator(\n",
    "        training_set,\n",
    "        steps_per_epoch=10,\n",
    "        epochs=200,\n",
    "        validation_data=test_set,\n",
    "        validation_steps=100)\n",
    "\n",
    "end = timeit.default_timer()\n",
    "print(\"Time Taken to run the model:\",end - start, \"seconds\") "
   ]
  },
  {
   "cell_type": "code",
   "execution_count": 29,
   "metadata": {
    "collapsed": true
   },
   "outputs": [],
   "source": [
    "model.save_weights('model.h5')"
   ]
  },
  {
   "cell_type": "code",
   "execution_count": null,
   "metadata": {
    "collapsed": true
   },
   "outputs": [],
   "source": []
  }
 ],
 "metadata": {
  "anaconda-cloud": {},
  "kernelspec": {
   "display_name": "Python 3",
   "language": "python",
   "name": "python3"
  },
  "language_info": {
   "codemirror_mode": {
    "name": "ipython",
    "version": 3
   },
   "file_extension": ".py",
   "mimetype": "text/x-python",
   "name": "python",
   "nbconvert_exporter": "python",
   "pygments_lexer": "ipython3",
   "version": "3.6.5"
  }
 },
 "nbformat": 4,
 "nbformat_minor": 2
}
