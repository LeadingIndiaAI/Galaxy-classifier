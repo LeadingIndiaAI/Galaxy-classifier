{
 "cells": [
  {
   "cell_type": "markdown",
   "metadata": {},
   "source": [
    "# AUGMENTOR\n",
    "\n",
    "This code file is responsible for Data Augmentation. We have more than 6000 samples for Elliptical Galaxy and 5000 samples for Spiral Galaxy. However, for Irregular Galaxy, we have an image dataset of only 11 samples. So, here we apply the Augmentor module to use those 11 samples for creating more than 1200 samples for the Irregular Galaxy type. "
   ]
  },
  {
   "cell_type": "code",
   "execution_count": 1,
   "metadata": {
    "collapsed": false
   },
   "outputs": [],
   "source": [
    "#Importing relevant modules\n",
    "import Augmentor\n",
    "import warnings\n",
    "warnings.filterwarnings('ignore')"
   ]
  },
  {
   "cell_type": "code",
   "execution_count": 2,
   "metadata": {
    "collapsed": false
   },
   "outputs": [
    {
     "name": "stdout",
     "output_type": "stream",
     "text": [
      "Initialised with 11 image(s) found.\n",
      "Output directory set to C:/Users/Diganta/Desktop/Courses_and_Projects/Projects/Bennet/irregular\\output."
     ]
    }
   ],
   "source": [
    "#Setting up the Augmentor Pipeline\n",
    "p = Augmentor.Pipeline(\"C:/Users/Diganta/Desktop/Courses_and_Projects/Projects/Bennet/irregular\")\n"
   ]
  },
  {
   "cell_type": "code",
   "execution_count": 3,
   "metadata": {
    "collapsed": false
   },
   "outputs": [],
   "source": [
    "#Defining our method of Image Augmentation\n",
    "p.rotate90(probability=0.5)\n",
    "p.rotate270(probability=0.5)\n",
    "p.flip_left_right(probability=0.8)\n",
    "p.flip_top_bottom(probability=0.3)\n",
    "p.crop_random(probability=1, percentage_area=0.5)\n",
    "p.resize(probability=1.0, width=120, height=120)"
   ]
  },
  {
   "cell_type": "code",
   "execution_count": 4,
   "metadata": {
    "collapsed": false
   },
   "outputs": [
    {
     "name": "stderr",
     "output_type": "stream",
     "text": [
      "Processing <PIL.Image.Image image mode=RGB size=120x120 at 0x1D46CA7FF28>: 100%|█| 1300/1300 [00:10<00:00, 127.88 Samples/s]\n"
     ]
    }
   ],
   "source": [
    "#Producing a sample of 1300 Augmented Irregular Galaxy type image samples from a set of 11 input images\n",
    "p.sample(1300)"
   ]
  }
 ],
 "metadata": {
  "anaconda-cloud": {},
  "kernelspec": {
   "display_name": "Python [default]",
   "language": "python",
   "name": "python3"
  },
  "language_info": {
   "codemirror_mode": {
    "name": "ipython",
    "version": 3
   },
   "file_extension": ".py",
   "mimetype": "text/x-python",
   "name": "python",
   "nbconvert_exporter": "python",
   "pygments_lexer": "ipython3",
   "version": "3.5.2"
  }
 },
 "nbformat": 4,
 "nbformat_minor": 1
}
