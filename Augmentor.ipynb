{
 "cells": [
  {
   "cell_type": "code",
   "execution_count": 1,
   "metadata": {
    "collapsed": false
   },
   "outputs": [],
   "source": [
    "import Augmentor\n",
    "import warnings\n",
    "warnings.filterwarnings('ignore')"
   ]
  },
  {
   "cell_type": "code",
   "execution_count": 2,
   "metadata": {
    "collapsed": false
   },
   "outputs": [
    {
     "name": "stdout",
     "output_type": "stream",
     "text": [
      "Initialised with 287 image(s) found.\n",
      "Output directory set to C:/Users/Diganta/Desktop/Courses_and_Projects/Projects/Bennet/irregular\\output."
     ]
    }
   ],
   "source": [
    "p = Augmentor.Pipeline(\"C:/Users/Diganta/Desktop/Courses_and_Projects/Projects/Bennet/irregular\")\n"
   ]
  },
  {
   "cell_type": "code",
   "execution_count": 3,
   "metadata": {
    "collapsed": false
   },
   "outputs": [],
   "source": [
    "p.rotate90(probability=0.5)\n",
    "p.rotate270(probability=0.5)\n",
    "p.flip_left_right(probability=0.8)\n",
    "p.flip_top_bottom(probability=0.3)\n",
    "p.crop_random(probability=1, percentage_area=0.5)\n",
    "p.resize(probability=1.0, width=120, height=120)"
   ]
  },
  {
   "cell_type": "code",
   "execution_count": 4,
   "metadata": {
    "collapsed": false
   },
   "outputs": [
    {
     "name": "stderr",
     "output_type": "stream",
     "text": [
      "Processing <PIL.Image.Image image mode=RGB size=120x120 at 0x26969F71080>: 100%|█| 287/287 [00:03<00:00, 76.81 Samples/s]\n"
     ]
    }
   ],
   "source": [
    "p.process()"
   ]
  },
  {
   "cell_type": "code",
   "execution_count": null,
   "metadata": {
    "collapsed": true
   },
   "outputs": [],
   "source": []
  }
 ],
 "metadata": {
  "anaconda-cloud": {},
  "kernelspec": {
   "display_name": "Python [default]",
   "language": "python",
   "name": "python3"
  },
  "language_info": {
   "codemirror_mode": {
    "name": "ipython",
    "version": 3
   },
   "file_extension": ".py",
   "mimetype": "text/x-python",
   "name": "python",
   "nbconvert_exporter": "python",
   "pygments_lexer": "ipython3",
   "version": "3.5.2"
  }
 },
 "nbformat": 4,
 "nbformat_minor": 1
}
